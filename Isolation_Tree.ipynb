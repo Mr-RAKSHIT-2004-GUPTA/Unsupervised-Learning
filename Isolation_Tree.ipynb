{
  "nbformat": 4,
  "nbformat_minor": 0,
  "metadata": {
    "colab": {
      "provenance": [],
      "authorship_tag": "ABX9TyO7idW/Llj7L+9ITdjKHR2H",
      "include_colab_link": true
    },
    "kernelspec": {
      "name": "python3",
      "display_name": "Python 3"
    },
    "language_info": {
      "name": "python"
    }
  },
  "cells": [
    {
      "cell_type": "markdown",
      "metadata": {
        "id": "view-in-github",
        "colab_type": "text"
      },
      "source": [
        "<a href=\"https://colab.research.google.com/github/Mr-RAKSHIT-2004-GUPTA/Unsupervised-Learning/blob/main/Isolation_Tree.ipynb\" target=\"_parent\"><img src=\"https://colab.research.google.com/assets/colab-badge.svg\" alt=\"Open In Colab\"/></a>"
      ]
    },
    {
      "cell_type": "code",
      "execution_count": 7,
      "metadata": {
        "id": "RHraJ34abQlA"
      },
      "outputs": [],
      "source": [
        "import numpy as np\n",
        "import pandas as pd\n",
        "import seaborn as sns\n",
        "import matplotlib.pyplot as plt\n",
        "\n",
        "import warnings\n",
        "warnings.filterwarnings('ignore')"
      ]
    },
    {
      "cell_type": "code",
      "source": [
        "df = pd.read_csv('/content/healthcare.csv')"
      ],
      "metadata": {
        "id": "hAQUl_CZbj2t"
      },
      "execution_count": 8,
      "outputs": []
    },
    {
      "cell_type": "code",
      "source": [
        "df.head()"
      ],
      "metadata": {
        "colab": {
          "base_uri": "https://localhost:8080/",
          "height": 206
        },
        "id": "1hj2Z5ZHdaXO",
        "outputId": "12f09475-9d53-4fc6-916b-825b34600356"
      },
      "execution_count": 9,
      "outputs": [
        {
          "output_type": "execute_result",
          "data": {
            "text/plain": [
              "          0         1\n",
              "0  1.616671  1.944522\n",
              "1  1.256461  1.609444\n",
              "2 -2.343919  4.392961\n",
              "3  1.195393  2.794485\n",
              "4 -3.329586  5.303160"
            ],
            "text/html": [
              "\n",
              "  <div id=\"df-84aabcca-c9b3-48ef-94e3-ebbbf96245f5\" class=\"colab-df-container\">\n",
              "    <div>\n",
              "<style scoped>\n",
              "    .dataframe tbody tr th:only-of-type {\n",
              "        vertical-align: middle;\n",
              "    }\n",
              "\n",
              "    .dataframe tbody tr th {\n",
              "        vertical-align: top;\n",
              "    }\n",
              "\n",
              "    .dataframe thead th {\n",
              "        text-align: right;\n",
              "    }\n",
              "</style>\n",
              "<table border=\"1\" class=\"dataframe\">\n",
              "  <thead>\n",
              "    <tr style=\"text-align: right;\">\n",
              "      <th></th>\n",
              "      <th>0</th>\n",
              "      <th>1</th>\n",
              "    </tr>\n",
              "  </thead>\n",
              "  <tbody>\n",
              "    <tr>\n",
              "      <th>0</th>\n",
              "      <td>1.616671</td>\n",
              "      <td>1.944522</td>\n",
              "    </tr>\n",
              "    <tr>\n",
              "      <th>1</th>\n",
              "      <td>1.256461</td>\n",
              "      <td>1.609444</td>\n",
              "    </tr>\n",
              "    <tr>\n",
              "      <th>2</th>\n",
              "      <td>-2.343919</td>\n",
              "      <td>4.392961</td>\n",
              "    </tr>\n",
              "    <tr>\n",
              "      <th>3</th>\n",
              "      <td>1.195393</td>\n",
              "      <td>2.794485</td>\n",
              "    </tr>\n",
              "    <tr>\n",
              "      <th>4</th>\n",
              "      <td>-3.329586</td>\n",
              "      <td>5.303160</td>\n",
              "    </tr>\n",
              "  </tbody>\n",
              "</table>\n",
              "</div>\n",
              "    <div class=\"colab-df-buttons\">\n",
              "\n",
              "  <div class=\"colab-df-container\">\n",
              "    <button class=\"colab-df-convert\" onclick=\"convertToInteractive('df-84aabcca-c9b3-48ef-94e3-ebbbf96245f5')\"\n",
              "            title=\"Convert this dataframe to an interactive table.\"\n",
              "            style=\"display:none;\">\n",
              "\n",
              "  <svg xmlns=\"http://www.w3.org/2000/svg\" height=\"24px\" viewBox=\"0 -960 960 960\">\n",
              "    <path d=\"M120-120v-720h720v720H120Zm60-500h600v-160H180v160Zm220 220h160v-160H400v160Zm0 220h160v-160H400v160ZM180-400h160v-160H180v160Zm440 0h160v-160H620v160ZM180-180h160v-160H180v160Zm440 0h160v-160H620v160Z\"/>\n",
              "  </svg>\n",
              "    </button>\n",
              "\n",
              "  <style>\n",
              "    .colab-df-container {\n",
              "      display:flex;\n",
              "      gap: 12px;\n",
              "    }\n",
              "\n",
              "    .colab-df-convert {\n",
              "      background-color: #E8F0FE;\n",
              "      border: none;\n",
              "      border-radius: 50%;\n",
              "      cursor: pointer;\n",
              "      display: none;\n",
              "      fill: #1967D2;\n",
              "      height: 32px;\n",
              "      padding: 0 0 0 0;\n",
              "      width: 32px;\n",
              "    }\n",
              "\n",
              "    .colab-df-convert:hover {\n",
              "      background-color: #E2EBFA;\n",
              "      box-shadow: 0px 1px 2px rgba(60, 64, 67, 0.3), 0px 1px 3px 1px rgba(60, 64, 67, 0.15);\n",
              "      fill: #174EA6;\n",
              "    }\n",
              "\n",
              "    .colab-df-buttons div {\n",
              "      margin-bottom: 4px;\n",
              "    }\n",
              "\n",
              "    [theme=dark] .colab-df-convert {\n",
              "      background-color: #3B4455;\n",
              "      fill: #D2E3FC;\n",
              "    }\n",
              "\n",
              "    [theme=dark] .colab-df-convert:hover {\n",
              "      background-color: #434B5C;\n",
              "      box-shadow: 0px 1px 3px 1px rgba(0, 0, 0, 0.15);\n",
              "      filter: drop-shadow(0px 1px 2px rgba(0, 0, 0, 0.3));\n",
              "      fill: #FFFFFF;\n",
              "    }\n",
              "  </style>\n",
              "\n",
              "    <script>\n",
              "      const buttonEl =\n",
              "        document.querySelector('#df-84aabcca-c9b3-48ef-94e3-ebbbf96245f5 button.colab-df-convert');\n",
              "      buttonEl.style.display =\n",
              "        google.colab.kernel.accessAllowed ? 'block' : 'none';\n",
              "\n",
              "      async function convertToInteractive(key) {\n",
              "        const element = document.querySelector('#df-84aabcca-c9b3-48ef-94e3-ebbbf96245f5');\n",
              "        const dataTable =\n",
              "          await google.colab.kernel.invokeFunction('convertToInteractive',\n",
              "                                                    [key], {});\n",
              "        if (!dataTable) return;\n",
              "\n",
              "        const docLinkHtml = 'Like what you see? Visit the ' +\n",
              "          '<a target=\"_blank\" href=https://colab.research.google.com/notebooks/data_table.ipynb>data table notebook</a>'\n",
              "          + ' to learn more about interactive tables.';\n",
              "        element.innerHTML = '';\n",
              "        dataTable['output_type'] = 'display_data';\n",
              "        await google.colab.output.renderOutput(dataTable, element);\n",
              "        const docLink = document.createElement('div');\n",
              "        docLink.innerHTML = docLinkHtml;\n",
              "        element.appendChild(docLink);\n",
              "      }\n",
              "    </script>\n",
              "  </div>\n",
              "\n",
              "\n",
              "<div id=\"df-833a1d60-1257-488b-bf78-2f36c39b67ca\">\n",
              "  <button class=\"colab-df-quickchart\" onclick=\"quickchart('df-833a1d60-1257-488b-bf78-2f36c39b67ca')\"\n",
              "            title=\"Suggest charts\"\n",
              "            style=\"display:none;\">\n",
              "\n",
              "<svg xmlns=\"http://www.w3.org/2000/svg\" height=\"24px\"viewBox=\"0 0 24 24\"\n",
              "     width=\"24px\">\n",
              "    <g>\n",
              "        <path d=\"M19 3H5c-1.1 0-2 .9-2 2v14c0 1.1.9 2 2 2h14c1.1 0 2-.9 2-2V5c0-1.1-.9-2-2-2zM9 17H7v-7h2v7zm4 0h-2V7h2v10zm4 0h-2v-4h2v4z\"/>\n",
              "    </g>\n",
              "</svg>\n",
              "  </button>\n",
              "\n",
              "<style>\n",
              "  .colab-df-quickchart {\n",
              "      --bg-color: #E8F0FE;\n",
              "      --fill-color: #1967D2;\n",
              "      --hover-bg-color: #E2EBFA;\n",
              "      --hover-fill-color: #174EA6;\n",
              "      --disabled-fill-color: #AAA;\n",
              "      --disabled-bg-color: #DDD;\n",
              "  }\n",
              "\n",
              "  [theme=dark] .colab-df-quickchart {\n",
              "      --bg-color: #3B4455;\n",
              "      --fill-color: #D2E3FC;\n",
              "      --hover-bg-color: #434B5C;\n",
              "      --hover-fill-color: #FFFFFF;\n",
              "      --disabled-bg-color: #3B4455;\n",
              "      --disabled-fill-color: #666;\n",
              "  }\n",
              "\n",
              "  .colab-df-quickchart {\n",
              "    background-color: var(--bg-color);\n",
              "    border: none;\n",
              "    border-radius: 50%;\n",
              "    cursor: pointer;\n",
              "    display: none;\n",
              "    fill: var(--fill-color);\n",
              "    height: 32px;\n",
              "    padding: 0;\n",
              "    width: 32px;\n",
              "  }\n",
              "\n",
              "  .colab-df-quickchart:hover {\n",
              "    background-color: var(--hover-bg-color);\n",
              "    box-shadow: 0 1px 2px rgba(60, 64, 67, 0.3), 0 1px 3px 1px rgba(60, 64, 67, 0.15);\n",
              "    fill: var(--button-hover-fill-color);\n",
              "  }\n",
              "\n",
              "  .colab-df-quickchart-complete:disabled,\n",
              "  .colab-df-quickchart-complete:disabled:hover {\n",
              "    background-color: var(--disabled-bg-color);\n",
              "    fill: var(--disabled-fill-color);\n",
              "    box-shadow: none;\n",
              "  }\n",
              "\n",
              "  .colab-df-spinner {\n",
              "    border: 2px solid var(--fill-color);\n",
              "    border-color: transparent;\n",
              "    border-bottom-color: var(--fill-color);\n",
              "    animation:\n",
              "      spin 1s steps(1) infinite;\n",
              "  }\n",
              "\n",
              "  @keyframes spin {\n",
              "    0% {\n",
              "      border-color: transparent;\n",
              "      border-bottom-color: var(--fill-color);\n",
              "      border-left-color: var(--fill-color);\n",
              "    }\n",
              "    20% {\n",
              "      border-color: transparent;\n",
              "      border-left-color: var(--fill-color);\n",
              "      border-top-color: var(--fill-color);\n",
              "    }\n",
              "    30% {\n",
              "      border-color: transparent;\n",
              "      border-left-color: var(--fill-color);\n",
              "      border-top-color: var(--fill-color);\n",
              "      border-right-color: var(--fill-color);\n",
              "    }\n",
              "    40% {\n",
              "      border-color: transparent;\n",
              "      border-right-color: var(--fill-color);\n",
              "      border-top-color: var(--fill-color);\n",
              "    }\n",
              "    60% {\n",
              "      border-color: transparent;\n",
              "      border-right-color: var(--fill-color);\n",
              "    }\n",
              "    80% {\n",
              "      border-color: transparent;\n",
              "      border-right-color: var(--fill-color);\n",
              "      border-bottom-color: var(--fill-color);\n",
              "    }\n",
              "    90% {\n",
              "      border-color: transparent;\n",
              "      border-bottom-color: var(--fill-color);\n",
              "    }\n",
              "  }\n",
              "</style>\n",
              "\n",
              "  <script>\n",
              "    async function quickchart(key) {\n",
              "      const quickchartButtonEl =\n",
              "        document.querySelector('#' + key + ' button');\n",
              "      quickchartButtonEl.disabled = true;  // To prevent multiple clicks.\n",
              "      quickchartButtonEl.classList.add('colab-df-spinner');\n",
              "      try {\n",
              "        const charts = await google.colab.kernel.invokeFunction(\n",
              "            'suggestCharts', [key], {});\n",
              "      } catch (error) {\n",
              "        console.error('Error during call to suggestCharts:', error);\n",
              "      }\n",
              "      quickchartButtonEl.classList.remove('colab-df-spinner');\n",
              "      quickchartButtonEl.classList.add('colab-df-quickchart-complete');\n",
              "    }\n",
              "    (() => {\n",
              "      let quickchartButtonEl =\n",
              "        document.querySelector('#df-833a1d60-1257-488b-bf78-2f36c39b67ca button');\n",
              "      quickchartButtonEl.style.display =\n",
              "        google.colab.kernel.accessAllowed ? 'block' : 'none';\n",
              "    })();\n",
              "  </script>\n",
              "</div>\n",
              "\n",
              "    </div>\n",
              "  </div>\n"
            ],
            "application/vnd.google.colaboratory.intrinsic+json": {
              "type": "dataframe",
              "variable_name": "df",
              "summary": "{\n  \"name\": \"df\",\n  \"rows\": 250,\n  \"fields\": [\n    {\n      \"column\": \"0\",\n      \"properties\": {\n        \"dtype\": \"number\",\n        \"std\": 2.704501005951709,\n        \"min\": -5.888765911500949,\n        \"max\": 9.39915671907378,\n        \"num_unique_values\": 250,\n        \"samples\": [\n          2.137125235664814,\n          0.4561196851060762,\n          6.335474879272976\n        ],\n        \"semantic_type\": \"\",\n        \"description\": \"\"\n      }\n    },\n    {\n      \"column\": \"1\",\n      \"properties\": {\n        \"dtype\": \"number\",\n        \"std\": 2.463475543807109,\n        \"min\": -5.409808842327475,\n        \"max\": 9.54851332353537,\n        \"num_unique_values\": 250,\n        \"samples\": [\n          1.7220527506339114,\n          1.807574190885176,\n          1.900729541830252\n        ],\n        \"semantic_type\": \"\",\n        \"description\": \"\"\n      }\n    }\n  ]\n}"
            }
          },
          "metadata": {},
          "execution_count": 9
        }
      ]
    },
    {
      "cell_type": "code",
      "source": [
        "plt.scatter(df.iloc[: , 0] , df.iloc[:,1])"
      ],
      "metadata": {
        "colab": {
          "base_uri": "https://localhost:8080/",
          "height": 448
        },
        "id": "9j1dx5EoeUqQ",
        "outputId": "2b1187ad-1611-4e1d-ebe3-263206bdfbc0"
      },
      "execution_count": 10,
      "outputs": [
        {
          "output_type": "execute_result",
          "data": {
            "text/plain": [
              "<matplotlib.collections.PathCollection at 0x7df8ef962b60>"
            ]
          },
          "metadata": {},
          "execution_count": 10
        },
        {
          "output_type": "display_data",
          "data": {
            "text/plain": [
              "<Figure size 640x480 with 1 Axes>"
            ],
            "image/png": "[encoded data removed]"
          },
          "metadata": {}
        }
      ]
    },
    {
      "cell_type": "code",
      "source": [
        "from sklearn.ensemble import IsolationForest"
      ],
      "metadata": {
        "id": "IKf-YPJUeeeA"
      },
      "execution_count": 11,
      "outputs": []
    },
    {
      "cell_type": "code",
      "source": [
        "outlier = IsolationForest(contamination=0.2)\n",
        "outlier.fit(df)\n",
        "pred = outlier.predict(df)"
      ],
      "metadata": {
        "id": "TREBPCHefyTf"
      },
      "execution_count": 12,
      "outputs": []
    },
    {
      "cell_type": "code",
      "source": [
        "pred"
      ],
      "metadata": {
        "colab": {
          "base_uri": "https://localhost:8080/"
        },
        "id": "cY1iDOeWgiw7",
        "outputId": "195528b4-cb9c-4300-8e32-a348a24bbd4d"
      },
      "execution_count": 13,
      "outputs": [
        {
          "output_type": "execute_result",
          "data": {
            "text/plain": [
              "array([ 1,  1,  1,  1, -1,  1,  1,  1,  1,  1,  1,  1,  1,  1,  1,  1,  1,\n",
              "        1,  1,  1, -1,  1,  1,  1, -1,  1,  1,  1,  1,  1,  1, -1,  1,  1,\n",
              "        1,  1,  1,  1,  1,  1,  1,  1,  1,  1,  1, -1,  1,  1, -1, -1,  1,\n",
              "        1,  1, -1,  1, -1,  1,  1,  1,  1,  1,  1, -1, -1,  1,  1,  1, -1,\n",
              "        1,  1,  1,  1, -1,  1, -1,  1,  1,  1, -1,  1,  1,  1,  1, -1,  1,\n",
              "       -1,  1, -1,  1,  1,  1,  1, -1,  1,  1,  1,  1, -1,  1,  1,  1,  1,\n",
              "        1,  1, -1,  1,  1,  1, -1,  1,  1,  1,  1,  1, -1,  1,  1,  1,  1,\n",
              "       -1,  1,  1,  1,  1,  1,  1, -1,  1,  1,  1, -1,  1, -1, -1,  1,  1,\n",
              "        1,  1,  1,  1,  1, -1,  1,  1,  1,  1,  1,  1,  1,  1,  1, -1,  1,\n",
              "        1,  1,  1,  1,  1,  1,  1, -1,  1,  1,  1,  1,  1,  1, -1,  1,  1,\n",
              "        1,  1,  1,  1,  1,  1,  1, -1,  1, -1,  1,  1, -1,  1,  1,  1,  1,\n",
              "       -1,  1,  1,  1,  1,  1,  1,  1,  1,  1, -1,  1, -1,  1,  1,  1,  1,\n",
              "       -1,  1,  1,  1,  1, -1,  1,  1, -1,  1, -1,  1,  1, -1,  1,  1, -1,\n",
              "       -1,  1,  1,  1,  1,  1, -1,  1,  1,  1,  1,  1,  1,  1,  1,  1,  1,\n",
              "        1,  1,  1,  1, -1,  1, -1,  1,  1, -1, -1,  1])"
            ]
          },
          "metadata": {},
          "execution_count": 13
        }
      ]
    },
    {
      "cell_type": "code",
      "source": [
        "index = np.where(pred < 0)"
      ],
      "metadata": {
        "id": "k8Gwa8d3gj94"
      },
      "execution_count": 16,
      "outputs": []
    },
    {
      "cell_type": "code",
      "source": [
        "index"
      ],
      "metadata": {
        "colab": {
          "base_uri": "https://localhost:8080/"
        },
        "id": "0bHA58U9go-m",
        "outputId": "3d6d9507-0913-48f7-8949-ca8a1f07ed3b"
      },
      "execution_count": 17,
      "outputs": [
        {
          "output_type": "execute_result",
          "data": {
            "text/plain": [
              "(array([  4,  20,  24,  31,  45,  48,  49,  53,  55,  62,  63,  67,  72,\n",
              "         74,  78,  83,  85,  87,  92,  97, 104, 108, 114, 119, 126, 130,\n",
              "        132, 133, 141, 151, 160, 167, 177, 179, 182, 187, 197, 199, 204,\n",
              "        209, 212, 214, 217, 220, 221, 227, 242, 244, 247, 248]),)"
            ]
          },
          "metadata": {},
          "execution_count": 17
        }
      ]
    },
    {
      "cell_type": "code",
      "source": [
        "x = df.values"
      ],
      "metadata": {
        "id": "bfzNQA4Dgqf-"
      },
      "execution_count": 18,
      "outputs": []
    },
    {
      "cell_type": "code",
      "source": [
        "x"
      ],
      "metadata": {
        "colab": {
          "base_uri": "https://localhost:8080/"
        },
        "id": "JLYFWXAMgzHS",
        "outputId": "b94a8d86-9efa-429d-cb3d-70e1c2c74e97"
      },
      "execution_count": 19,
      "outputs": [
        {
          "output_type": "execute_result",
          "data": {
            "text/plain": [
              "array([[ 1.61667145,  1.94452201],\n",
              "       [ 1.2564615 ,  1.60944428],\n",
              "       [-2.34391881,  4.3929613 ],\n",
              "       [ 1.19539251,  2.79448461],\n",
              "       [-3.32958612,  5.30315976],\n",
              "       [ 1.6241983 ,  1.21875334],\n",
              "       [ 0.45611969,  1.80757419],\n",
              "       [ 0.62304325,  2.04424325],\n",
              "       [-2.05908202,  4.6599109 ],\n",
              "       [ 2.16307638,  1.39149293],\n",
              "       [-2.13386677,  4.43599433],\n",
              "       [-1.65311342,  4.92021328],\n",
              "       [ 0.75047316,  2.23811621],\n",
              "       [-1.71073925,  5.17482723],\n",
              "       [ 0.86102444,  2.2819114 ],\n",
              "       [-1.86274182,  4.55454246],\n",
              "       [ 1.48027244,  1.79983231],\n",
              "       [ 1.45223088,  2.69933991],\n",
              "       [-1.65509092,  5.65092311],\n",
              "       [ 1.22887123,  1.28838807],\n",
              "       [ 9.39915672, -1.97148327],\n",
              "       [ 2.04025339,  2.07645291],\n",
              "       [ 0.890442  ,  1.09480523],\n",
              "       [-2.35235014,  5.47163036],\n",
              "       [ 0.56612677,  6.08881822],\n",
              "       [-2.38207196,  4.28110426],\n",
              "       [-2.57809122,  5.39059905],\n",
              "       [-1.92902342,  4.84033579],\n",
              "       [-2.40668213,  4.26678784],\n",
              "       [ 0.37027151,  1.3510818 ],\n",
              "       [-1.62640583,  4.40552752],\n",
              "       [ 0.30561087,  2.86554278],\n",
              "       [-2.14591868,  4.61925389],\n",
              "       [-2.15450648,  4.1619981 ],\n",
              "       [ 2.57294545,  2.52855114],\n",
              "       [ 1.21777614,  2.35571155],\n",
              "       [-2.06505348,  5.04697661],\n",
              "       [ 1.76349787,  0.73041945],\n",
              "       [ 0.35886116,  1.82394758],\n",
              "       [-1.92174673,  5.11609052],\n",
              "       [-2.34200545,  5.8297754 ],\n",
              "       [ 1.64579248,  2.18364733],\n",
              "       [-1.73946756,  4.71210602],\n",
              "       [ 2.36372527,  0.84065629],\n",
              "       [ 1.90361357,  1.35419087],\n",
              "       [ 6.85875323, -3.01487906],\n",
              "       [ 1.21046671,  0.97678163],\n",
              "       [ 1.02927769,  1.24831279],\n",
              "       [ 4.1344601 ,  7.94336944],\n",
              "       [ 2.18511659,  3.06862524],\n",
              "       [ 1.02796714,  1.52228139],\n",
              "       [ 2.09978143,  1.04428208],\n",
              "       [ 0.87854998,  0.11344247],\n",
              "       [ 8.52106358, -2.01132433],\n",
              "       [-2.4779725 ,  4.82700911],\n",
              "       [-1.36397675, -3.4204594 ],\n",
              "       [-1.8145875 ,  5.0710309 ],\n",
              "       [ 0.96105875,  1.87747443],\n",
              "       [ 1.53203096,  1.3689713 ],\n",
              "       [ 1.93766202,  0.37855964],\n",
              "       [-1.25275773,  3.96500749],\n",
              "       [-3.12778211,  4.48874658],\n",
              "       [ 3.01426516,  2.43556956],\n",
              "       [ 2.30064995,  5.24830334],\n",
              "       [-2.0308132 ,  4.94634736],\n",
              "       [ 1.81070426,  1.73357203],\n",
              "       [-1.57918437,  4.87527071],\n",
              "       [-2.07883351,  6.12836175],\n",
              "       [-2.88426923,  5.1777409 ],\n",
              "       [ 0.72693166,  1.53651556],\n",
              "       [-2.34602492,  5.76818853],\n",
              "       [-2.87794529,  5.22546723],\n",
              "       [ 9.08655526, -0.82875309],\n",
              "       [ 0.6106605 ,  2.1785777 ],\n",
              "       [ 7.80965481,  3.97277003],\n",
              "       [-2.06644029,  4.85110456],\n",
              "       [-1.57103804,  5.57055093],\n",
              "       [-2.9681399 ,  5.0943893 ],\n",
              "       [ 6.17256078,  2.98043516],\n",
              "       [-2.10345184,  5.44008946],\n",
              "       [-3.04730154,  5.06186096],\n",
              "       [-2.31871851,  4.80136409],\n",
              "       [ 1.6008305 ,  2.51799145],\n",
              "       [ 0.67857605, -2.44627503],\n",
              "       [ 1.25220426,  0.53753409],\n",
              "       [-0.18192636,  9.54851332],\n",
              "       [ 1.54656206,  1.71173033],\n",
              "       [-5.59329397, -4.27373717],\n",
              "       [ 0.64219514,  2.09105408],\n",
              "       [-2.65326343,  5.82906534],\n",
              "       [ 0.76601292,  0.50598744],\n",
              "       [ 0.59500016,  1.68693561],\n",
              "       [-4.08215412, -0.59815726],\n",
              "       [ 1.70876672,  2.42847013],\n",
              "       [ 2.33162085,  1.72185983],\n",
              "       [-2.19972451,  5.18502794],\n",
              "       [-1.53524744,  5.2911123 ],\n",
              "       [ 6.33547488,  1.90072954],\n",
              "       [-1.4657453 ,  4.7733071 ],\n",
              "       [ 1.97060633,  1.78522329],\n",
              "       [-2.06797485,  5.56844568],\n",
              "       [ 1.92985556,  2.14554467],\n",
              "       [-2.47222313,  4.79497515],\n",
              "       [-2.22046132,  4.85982225],\n",
              "       [-1.24000257,  5.85979465],\n",
              "       [-2.59442963,  4.74659182],\n",
              "       [ 2.3251457 ,  1.37405261],\n",
              "       [-2.29932697,  4.44205151],\n",
              "       [-5.88876591,  2.17195684],\n",
              "       [ 2.54585535,  1.35638922],\n",
              "       [-2.05527033,  5.51008636],\n",
              "       [-1.85682816,  5.30442192],\n",
              "       [ 1.71914739,  0.90213298],\n",
              "       [ 2.16459456,  1.56128587],\n",
              "       [-2.3530374 ,  0.83372462],\n",
              "       [ 1.05597453,  1.24608118],\n",
              "       [-2.02108573,  4.8565564 ],\n",
              "       [-0.87034552,  4.97887142],\n",
              "       [-1.42383422,  5.5398093 ],\n",
              "       [ 8.87516244,  6.92992607],\n",
              "       [-2.84905291,  5.19364024],\n",
              "       [-2.36279869,  4.30831802],\n",
              "       [ 1.4277468 ,  1.78741895],\n",
              "       [-2.09252684,  4.59617576],\n",
              "       [-2.35980219,  4.59350351],\n",
              "       [-1.98068472,  4.17164245],\n",
              "       [-0.9703043 ,  2.13713106],\n",
              "       [ 1.50735001,  2.75010935],\n",
              "       [-2.31404378,  4.75948644],\n",
              "       [-1.66680846,  4.76964011],\n",
              "       [ 5.3097175 ,  5.66411469],\n",
              "       [-1.26671064,  5.42627597],\n",
              "       [ 1.04946712, -0.05638221],\n",
              "       [ 6.34032555, -4.81528557],\n",
              "       [ 0.67881362,  2.86053483],\n",
              "       [-1.73805449,  5.04421104],\n",
              "       [ 1.86629366,  1.37991757],\n",
              "       [ 2.29758048,  0.63562193],\n",
              "       [-2.5634129 ,  4.63466112],\n",
              "       [-1.95113752,  5.29147684],\n",
              "       [-1.97525251,  5.24691839],\n",
              "       [-5.49713303,  4.18256658],\n",
              "       [ 2.13712524,  1.72205275],\n",
              "       [-2.32620429,  4.80452331],\n",
              "       [ 0.57886481,  1.17689078],\n",
              "       [-2.29865803,  4.88103914],\n",
              "       [-1.59274009,  5.02946279],\n",
              "       [ 0.68439511,  2.13057854],\n",
              "       [-2.23179799,  5.24074074],\n",
              "       [-2.00784106,  5.08046408],\n",
              "       [ 0.86489114,  1.53636178],\n",
              "       [ 7.08823625,  7.77168933],\n",
              "       [-2.15544309,  5.04870008],\n",
              "       [-2.66712924,  4.32664125],\n",
              "       [ 2.14460118,  1.72310936],\n",
              "       [ 2.28864515,  0.74404794],\n",
              "       [-2.71203045,  4.75334006],\n",
              "       [ 1.69594722,  1.43129473],\n",
              "       [-2.06685078,  5.5388719 ],\n",
              "       [ 0.97867162,  0.92149302],\n",
              "       [-3.01534223,  6.03224643],\n",
              "       [-2.1924399 ,  5.04717579],\n",
              "       [ 2.10510534,  0.98048449],\n",
              "       [-2.17671587,  4.19176291],\n",
              "       [-1.02204385,  5.19504666],\n",
              "       [-1.61337351,  4.40805968],\n",
              "       [ 3.16820134,  2.16113564],\n",
              "       [ 5.67369885,  4.20091954],\n",
              "       [ 2.36120348,  2.34166589],\n",
              "       [ 1.48297171,  0.98337836],\n",
              "       [-1.17593253,  5.08211388],\n",
              "       [ 0.9823059 ,  2.58011022],\n",
              "       [-1.65423062,  5.34737457],\n",
              "       [ 0.9307976 ,  0.29160218],\n",
              "       [ 1.28191323,  1.53931574],\n",
              "       [-2.15455722,  4.88326667],\n",
              "       [ 1.15137728,  2.85067244],\n",
              "       [-1.80047683,  3.61370362],\n",
              "       [ 2.03272641,  1.58517251],\n",
              "       [ 6.91904248,  8.3374608 ],\n",
              "       [-2.49275537,  4.2640825 ],\n",
              "       [-0.84804165,  4.46999209],\n",
              "       [ 3.08882824,  0.48194403],\n",
              "       [ 1.78163915,  1.02063294],\n",
              "       [-1.67834277,  4.2146883 ],\n",
              "       [ 2.05042957,  1.17350663],\n",
              "       [-2.27143074,  5.20802502],\n",
              "       [-1.02428285, -0.79706685],\n",
              "       [ 0.69677194,  1.19352597],\n",
              "       [-1.78687063,  5.33845402],\n",
              "       [ 2.84605942,  2.53636035],\n",
              "       [ 1.6084632 ,  1.76471376],\n",
              "       [-2.72326735,  5.40014897],\n",
              "       [ 1.05490775,  1.97350331],\n",
              "       [-2.52262668,  5.60557264],\n",
              "       [-1.53407581,  5.16998249],\n",
              "       [-2.18234677,  5.07835193],\n",
              "       [-0.28709287,  1.95753302],\n",
              "       [-1.13363941,  5.34225055],\n",
              "       [ 1.95597609, -1.18594704],\n",
              "       [-1.31773408,  4.65527541],\n",
              "       [-1.65077143,  5.00188544],\n",
              "       [ 1.31239764,  2.06171948],\n",
              "       [-2.57867763,  4.84385387],\n",
              "       [ 3.75302934,  2.04286437],\n",
              "       [ 1.47250203,  0.68233455],\n",
              "       [-1.71635486,  4.88866245],\n",
              "       [-2.23982791,  5.31017915],\n",
              "       [ 1.24157271,  1.33243458],\n",
              "       [ 2.81820549,  0.55656866],\n",
              "       [-2.00851021,  5.18957587],\n",
              "       [-1.85977915,  4.50343819],\n",
              "       [-1.44255209, -5.40980884],\n",
              "       [ 0.89714202,  2.83704547],\n",
              "       [ 2.80729059,  0.81590548],\n",
              "       [ 1.18112725,  1.51223541],\n",
              "       [ 0.93761324,  1.01731516],\n",
              "       [-0.9119444 , -4.23916921],\n",
              "       [-1.61666841,  5.17814641],\n",
              "       [ 0.79984926,  0.41866023],\n",
              "       [ 8.28094398,  2.62947587],\n",
              "       [-2.33922935, -4.76832144],\n",
              "       [ 2.01036339,  1.59028804],\n",
              "       [ 1.43108323,  1.0355652 ],\n",
              "       [-2.92153478,  4.761013  ],\n",
              "       [ 0.77603001,  1.97711616],\n",
              "       [ 1.58883846,  1.78139255],\n",
              "       [-0.26454834, -4.14609505],\n",
              "       [ 1.94809207,  0.36813077],\n",
              "       [ 1.74945648,  1.99460122],\n",
              "       [ 0.87317341,  1.77083175],\n",
              "       [ 2.16506189,  1.39404995],\n",
              "       [-2.29815702,  4.97371635],\n",
              "       [-2.3261468 ,  4.73940534],\n",
              "       [ 1.14324347,  1.19334799],\n",
              "       [ 1.7772047 ,  0.73485694],\n",
              "       [-2.09532675,  4.80257524],\n",
              "       [-2.7914692 ,  5.30518969],\n",
              "       [ 2.80729127,  2.13423126],\n",
              "       [ 1.82596371,  0.42462942],\n",
              "       [ 1.0138025 ,  1.39525582],\n",
              "       [-2.77039851,  5.031631  ],\n",
              "       [-0.7056316 , -4.9830664 ],\n",
              "       [ 2.73483664,  1.78011005],\n",
              "       [ 2.54177654,  2.82712242],\n",
              "       [ 2.26976172,  1.95868461],\n",
              "       [ 1.1424364 ,  0.67355747],\n",
              "       [ 8.19540388,  1.5554388 ],\n",
              "       [-4.08649206,  5.4119166 ],\n",
              "       [-1.75312911,  4.94194803]])"
            ]
          },
          "metadata": {},
          "execution_count": 19
        }
      ]
    },
    {
      "cell_type": "code",
      "source": [
        "plt.scatter(df.iloc[:,0] , df.iloc[:,1])\n",
        "plt.scatter(x[index,0],x[index,1], edgecolor='red')"
      ],
      "metadata": {
        "colab": {
          "base_uri": "https://localhost:8080/",
          "height": 448
        },
        "id": "74BfgyUOgzeH",
        "outputId": "778b241d-2c9d-46b2-e351-0bf1279bddbc"
      },
      "execution_count": 22,
      "outputs": [
        {
          "output_type": "execute_result",
          "data": {
            "text/plain": [
              "<matplotlib.collections.PathCollection at 0x7df8ef794ca0>"
            ]
          },
          "metadata": {},
          "execution_count": 22
        },
        {
          "output_type": "display_data",
          "data": {
            "text/plain": [
              "<Figure size 640x480 with 1 Axes>"
            ],
            "image/png": "[encoded data removed]"
          },
          "metadata": {}
        }
      ]
    },
    {
      "cell_type": "code",
      "source": [],
      "metadata": {
        "id": "4JyaD3vphD1P"
      },
      "execution_count": null,
      "outputs": []
    }
  ]
}